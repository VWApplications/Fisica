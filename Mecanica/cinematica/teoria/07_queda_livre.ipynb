{
 "cells": [
  {
   "cell_type": "markdown",
   "metadata": {},
   "source": [
    "## Queda Livre\n",
    "***"
   ]
  },
  {
   "cell_type": "markdown",
   "metadata": {},
   "source": [
    "Qualquer corpo abandonado a partir do repouso ($V_0=0$), ou lançado verticalmente para baixo com velocidade inicial $V_0≠0$, descreve um movimento uniformemente acelerado, com aceleração $a=g$.\n",
    "\n",
    "Corpo abandonado de certa altura $h$ do solo\n",
    "\n",
    "* Colocando a origem da trajetória no ponto de onde ele é abandonado e orientando a trajetória para baixo, tem-se:\n",
    "\n",
    "![img](https://user-images.githubusercontent.com/14116020/43361102-e6c57560-929c-11e8-8622-22a5241f218f.png)\n",
    "\n",
    "Corpo lançado verticalmente para baixo com velocidade inicial $V_0≠0$\n",
    "\n",
    "* Colocando a origem da trajetória no ponto de onde ele é jogado para baixo e orientando a trajetória para baixo, tem-se:\n",
    "\n",
    "![img](https://user-images.githubusercontent.com/14116020/43361107-fbe038e0-929c-11e8-8d5d-1d385917a1d1.png)"
   ]
  },
  {
   "cell_type": "markdown",
   "metadata": {},
   "source": [
    "***\n",
    "### O que você deve saber\n",
    "***\n",
    "\n",
    "A aceleração da gravidade $g$ varia com a latitude e altitude, mas, próximo à superfície da Terra, pode-se considerá-la como constante e de valor $g=10\\frac{m}{s^2}$. Lembre-se de que medida a uma latitude de 45º e ao nível do mar, ela é chamada de aceleração normal da gravidade e vale $g=9,80655\\frac{m}{s^2}$\n",
    "\n",
    "![img](https://user-images.githubusercontent.com/14116020/43361122-70a9f77e-929d-11e8-94b6-d274b448dcd3.png)\n",
    "\n",
    "Na resolução de exercícios de movimentos de corpos sob a ação da gravidade pode-se desprezar a resistência do ar desde que os corpos possuam grandes densidades, pequenas dimensões e caiam de alturas não muito elevadas em relação ao nível do mar.\n",
    "\n",
    "Se um objeto é abandonado do interior de outro que está descendo com velocidade $V_0$, deve-se considerar como se o objeto estivesse sendo lançado verticalmente para baixo com velocidade $V_0$\n",
    "\n",
    "* **Exemplo**: Um helicóptero desce verticalmente em movimento uniforme com velocidade constante de $50km/h$, quando um pedra é abandonada de seu interior. Nesse caso, a pedra, ao abandonar o helicóptero tem a velocidade dele, ou seja, $V_0=50km/h$.\n",
    "\n",
    "![img](https://user-images.githubusercontent.com/14116020/43361076-510f3e84-929c-11e8-8999-6578e6e082eb.png)"
   ]
  },
  {
   "cell_type": "markdown",
   "metadata": {},
   "source": [
    "Corpos abandonados com $V_0=0$ ou lançados verticalmente para baixo com $V_0≠0$ de um mesmo local e da mesma altura (desprezando-se os efeitos do ar) demoram o mesmo tempo para chegar ao solo, independente de suas massas.A velocidade com que eles chegam ao solo também é a mesma.\n",
    "\n",
    "![img](https://user-images.githubusercontent.com/14116020/43361130-9dea806e-929d-11e8-9e29-a0b30652ce39.png)\n",
    "\n",
    "A aceleração da gravidade $g$ varia conforme o planeta, assim, cada planeta tem seu determinado $g$.\n",
    "\n",
    "![img](https://user-images.githubusercontent.com/14116020/43361137-cf030dce-929d-11e8-8919-3de464ff1a5e.png)\n",
    "\n",
    "Gráficos da queda livre, com o corpo partindo da origem e a trajetória orientada para baixo.\n",
    "\n",
    "![img](https://user-images.githubusercontent.com/14116020/43361141-e8fded66-929d-11e8-9f3d-0577c171fe6b.png)"
   ]
  },
  {
   "cell_type": "markdown",
   "metadata": {},
   "source": [
    "Quando se abre uma torneira de forma que saia apenas um \"filete\" de água, a área da seção reta do filete de água abaixo da boca da torneira é tanto menor quanto mais distante dela, porque como a velocidade da água distante da boca da torneira é maior devido à ação da gravidade, para que haja conservação da massa, a área da seção reta do filete tem que ser menor.\n",
    "\n",
    "![img](https://user-images.githubusercontent.com/14116020/43361151-3a5901f0-929e-11e8-9a4a-d7ee38c5bf0e.png)\n",
    "\n",
    "Proporções de Galileu para queda livre com $V_0=0$ e desprezando-se a resistência do ar:\n",
    "\n",
    "* Para intervalos de tempos iguais e consecutivos, um corpo em queda livre percorre distâncias cada vez maiores, na proporção dos ímpares consecutivos: no primeiro segundo, o móvel cai uma distância $d$; no segundo seguinte, percorre $3d$; no terceiro segundo, $5d$, e assim por diante."
   ]
  }
 ],
 "metadata": {
  "kernelspec": {
   "display_name": "Python 3",
   "language": "python",
   "name": "python3"
  },
  "language_info": {
   "codemirror_mode": {
    "name": "ipython",
    "version": 3
   },
   "file_extension": ".py",
   "mimetype": "text/x-python",
   "name": "python",
   "nbconvert_exporter": "python",
   "pygments_lexer": "ipython3",
   "version": "3.5.2"
  }
 },
 "nbformat": 4,
 "nbformat_minor": 2
}
