{
 "cells": [
  {
   "cell_type": "markdown",
   "metadata": {},
   "source": [
    "## Cinemática Vetorial\n",
    "***"
   ]
  },
  {
   "cell_type": "markdown",
   "metadata": {},
   "source": [
    "Quando um corpo sai de um ponto A, desloca-se até um ponto B, e retorna ao ponto A, mesmo que com trajetórias diferentes na ida e na volta, seu deslocamento vetorial $d$ é nulo, pois você está somando e subtraindo dois vetores de mesma direção, mas de sentidos opostos.\n",
    "\n",
    "![image](https://user-images.githubusercontent.com/14116020/43362199-7ec28fd4-92ba-11e8-86db-6aa320481691.png)\n",
    "\n",
    "Já o deslocamento escalar ou variação de espaço ($ΔS$) que representa a distância efetivamente (realmente) percorrida pelo corpo (distância medida sobre a trajetória) é diferente de zero e vale: $ΔS_{total}= ΔS_1 + ΔS_2.$\n",
    "\n",
    "Comparando-se as intensidades de $ΔS$ e $d$, observa-se que $|ΔS| \\leq |d|$ e que a igualdade só acontece quando a trajetória é retilínea.\n",
    "\n",
    "Características do vetor velocidade ou velocidade vetorial ($\\vec{v}$)\n",
    "\n",
    "![image](https://user-images.githubusercontent.com/14116020/43362220-3f0aebf6-92bb-11e8-9af9-9ef4e5a81ef5.png)\n",
    "\n",
    "Em toda trajetória retilínea, a tangente à trajetória está sobre a própria reta\n",
    "\n",
    "Único movimento em que o vetor velocidade (velocidade vetorial) permanece constante em todos os aspectos (intensidade, direção e sentido) é o Movimento retilíneo e uniforme (MRU).\n",
    "\n",
    "![image](https://user-images.githubusercontent.com/14116020/43362223-5aef31b0-92bb-11e8-9adf-bc038ce50281.png)\n",
    "\n",
    "**Observação**: Nos movimentos retilíneos acelerado e retardado o vetor velocidade varia, pois seu módulo (intensidade) está aumentando ou diminuindo, respectivamente.\n",
    "\n",
    "No movimento circular uniforme:\n",
    "\n",
    "* Intensidade (módulo) da velocidade vetorial é constante\n",
    "\n",
    "\n",
    "* Sua direção e sentido variam, pois $\\vec{v}$ é tangente à trajetória em cada ponto.\n",
    "\n",
    "![image](https://user-images.githubusercontent.com/14116020/43362228-8ebabd16-92bb-11e8-81c1-af92c48d8a6c.png)\n",
    "\n",
    "![image](https://user-images.githubusercontent.com/14116020/43362229-9462f968-92bb-11e8-9323-1a34991228fe.png)\n",
    "\n",
    "![image](https://user-images.githubusercontent.com/14116020/43362231-9ae8b6ba-92bb-11e8-9e26-bd2c7d56f4e2.png)\n",
    "\n",
    "![image](https://user-images.githubusercontent.com/14116020/43362232-a1d15ed2-92bb-11e8-9de7-a265a182e7b5.png)\n",
    "\n",
    "![image](https://user-images.githubusercontent.com/14116020/43362234-ab0136a8-92bb-11e8-9fef-66a905cfb717.png)\n",
    "\n",
    "![image](https://user-images.githubusercontent.com/14116020/43362236-afa94b8c-92bb-11e8-93fa-d95403df1cc9.png)"
   ]
  }
 ],
 "metadata": {
  "kernelspec": {
   "display_name": "Python 3",
   "language": "python",
   "name": "python3"
  },
  "language_info": {
   "codemirror_mode": {
    "name": "ipython",
    "version": 3
   },
   "file_extension": ".py",
   "mimetype": "text/x-python",
   "name": "python",
   "nbconvert_exporter": "python",
   "pygments_lexer": "ipython3",
   "version": "3.5.2"
  }
 },
 "nbformat": 4,
 "nbformat_minor": 2
}
