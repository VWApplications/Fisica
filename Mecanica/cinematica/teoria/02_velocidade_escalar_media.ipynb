{
 "cells": [
  {
   "cell_type": "markdown",
   "metadata": {},
   "source": [
    "## Velocidade escalar média\n",
    "***\n",
    "\n",
    "Você não deve confundir **deslocamento escalar (DS)** de um móvel com **distância ou espaço efetivamente percorrido (d)** por ele.\n",
    "\n",
    "Considere uma trajetória na qual um móvel parte da posição A ($S_{A}=-30km$), atinge a posição B ($S_{B}=-70km$) e retorna à posição A ($S_{A}=-30km$),após um certo intervalo de tempo."
   ]
  },
  {
   "cell_type": "markdown",
   "metadata": {},
   "source": [
    "*** \n",
    "#### Na ida, em movimento retrógrado, entre $t_0$ e $t_1$:\n",
    "***"
   ]
  },
  {
   "cell_type": "markdown",
   "metadata": {},
   "source": [
    "- Seu deslocamento escalar será: $\\Delta S_r = S-So = (-70)-(-30) \\rightarrow \\Delta S_r= -40km$\n",
    "  \n",
    "  \n",
    "- Sua distância efetivamente percorrida (indicação do odômetro do carro) será: $d_r = 70-30 \\rightarrow d_r = 40m$ (sempre em módulo)\n",
    "  \n",
    "![img](https://user-images.githubusercontent.com/14116020/34074371-80ef355e-e294-11e7-8919-c3f1e75bd9ff.jpg)"
   ]
  },
  {
   "cell_type": "markdown",
   "metadata": {},
   "source": [
    "***\n",
    "#### Na volta, em movimento progressivo, entre $t_1$ e $t_2$:\n",
    "***"
   ]
  },
  {
   "cell_type": "markdown",
   "metadata": {},
   "source": [
    "* Seu deslocamento escalar será: $\\Delta S_p = S - S_0 = (-30)-(-70) \\rightarrow \\Delta S_p = 40km$\n",
    "\n",
    "\n",
    "* Sua distância efetivamente percorrida será: $d_p = 70 - 30 \\rightarrow d_p = 40km$ (sempre em módulo).\n",
    "\n",
    "![img](https://user-images.githubusercontent.com/14116020/34074437-2bd01c80-e296-11e7-91c7-e098735446ee.jpg)"
   ]
  },
  {
   "cell_type": "markdown",
   "metadata": {},
   "source": [
    "***\n",
    "#### Durante todo o percurso (ida e volta)\n",
    "***"
   ]
  },
  {
   "cell_type": "markdown",
   "metadata": {},
   "source": [
    "* **Deslocamento escalar total** será: $\\Delta S_t = \\Delta S_r + \\Delta S_p = -40+40 = 0 \\rightarrow \\Delta S_t = 0$\n",
    "\n",
    "\n",
    "* **Distância efetivamente percorrida** (indicação do odômetro do carro) será: $d_t = 40+40 = 80 \\rightarrow d_t = 80km$.\n",
    "\n",
    "\n",
    "* É importante você observar que deslocamento escalar nulo não significa que o móvel permaneceu em repouso, ele pode ter se deslocado retornando à posição inicial."
   ]
  },
  {
   "cell_type": "markdown",
   "metadata": {},
   "source": [
    "***\n",
    "#### No Sistema Internacional de Unidades (SI)\n",
    "***"
   ]
  },
  {
   "cell_type": "markdown",
   "metadata": {},
   "source": [
    "* A unidade de velocidade (média ou instantânea) é o metro por segundo (m/s).\n",
    "\n",
    "\n",
    "* Na maioria das vezes, na prática, utiliza-se o quilômetro por hora (km/h), que é relacionado com o m/s da seguinte maneira:\n",
    "\n",
    "$$\\frac{1km}{h} = \\frac{1.000m}{3600s} = \\frac{1m}{3.6s}$$\n",
    "\n",
    "* Ou seja,\n",
    "\n",
    "$$\\frac{1m}{3.6s} = \\frac{1km}{h} \\rightarrow \\frac{1m}{s} = \\frac{3.6km}{h}$$"
   ]
  },
  {
   "cell_type": "markdown",
   "metadata": {},
   "source": [
    "***\n",
    "#### Velocidade constante\n",
    "***"
   ]
  },
  {
   "cell_type": "markdown",
   "metadata": {},
   "source": [
    "* Assim como o deslocamento, a velocidade também depende do referencial\n",
    "\n",
    "\n",
    "* Se um móvel efetua uma viagem de carro com velocidade constante $V_1$, percorrendo $\\Delta S_1$ durante um intervalo de tempo $\\Delta t_1$, ele pára em um posto de gasolina durante um intervalo de tempo $\\Delta t_2$, em seguida continua sua viagem por mais $\\Delta t_3$ com velocidade constante $V_3$, percorrendo $\\Delta S_3$.\n",
    "\n",
    "\n",
    "* A velocidade média do carro durante toda a viagem será:\n",
    "\n",
    "$$V_{mtotal} = \\frac{\\Delta S_{total}}{\\Delta t_{total}} = \\frac{\\Delta S_1 + \\Delta S_2}{\\Delta t_1 + \\Delta t_2 + \\Delta t_3}$$\n",
    "\n",
    "* Atenção, o tempo de parada é incluído."
   ]
  }
 ],
 "metadata": {
  "kernelspec": {
   "display_name": "Python 3",
   "language": "python",
   "name": "python3"
  },
  "language_info": {
   "codemirror_mode": {
    "name": "ipython",
    "version": 3
   },
   "file_extension": ".py",
   "mimetype": "text/x-python",
   "name": "python",
   "nbconvert_exporter": "python",
   "pygments_lexer": "ipython3",
   "version": "3.5.2"
  }
 },
 "nbformat": 4,
 "nbformat_minor": 2
}
