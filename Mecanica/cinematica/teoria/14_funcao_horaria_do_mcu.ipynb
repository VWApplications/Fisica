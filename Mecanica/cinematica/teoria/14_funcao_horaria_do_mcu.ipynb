{
 "cells": [
  {
   "cell_type": "markdown",
   "metadata": {},
   "source": [
    "## Função horária do MCU\n",
    "***"
   ]
  },
  {
   "cell_type": "markdown",
   "metadata": {},
   "source": [
    "Num MCU a velocidade angular ($W$) e a escalar ($V$) são sempre as mesmas em qualquer intervalo de tempo.\n",
    "\n",
    "Dividindo todos os termos da equação horária do movimento uniforme ($S = S_0 + V.t$) pelo raio $R$ da trajetória:\n",
    "\n",
    "\\begin{align*}\n",
    "\\frac{S}{R} & = \\frac{S_0}{R} + \\frac{V.t}{R} \\\\\n",
    "φ & = \\frac{S}{R} \\\\\n",
    "φ_0 & = \\frac{S_0}{R} \\\\\n",
    "W & = \\frac{V}{R} \\\\\n",
    "φ & = φ_0 + W.t\n",
    "\\end{align*}\n",
    "\n",
    "![image](https://user-images.githubusercontent.com/14116020/43362453-c4eb0de6-92c0-11e8-9a53-e5fc40af1b89.png)\n",
    "\n",
    "A equação acima recebe o nome de equação (função) horária do MCU na forma angular, e aos termos $φ$ e $φ_0$ dá-se o nome de fases (ou ângulos) final e inicial, respectivamente."
   ]
  },
  {
   "cell_type": "markdown",
   "metadata": {},
   "source": [
    "***\n",
    "### Movimento circular uniformemente variado (MCUV) \n",
    "***\n",
    "\n",
    "Na figura abaixo o golfinho está efetuando movimento circular uniformemente retardado na subida e uniformemente acelerado na descida, ou seja, trata-se de um movimento circular uniformemente variado de equações: $S = S_0 + V_0.t + \\frac{a.t^2}{2}$\n",
    "\n",
    "Dividindo por $R$:\n",
    "\n",
    "$$\\frac{S}{R} = \\frac{S_0}{R} + \\frac{V_0.t}{R} + \\frac{\\frac{a}{R}.t^2}{2}$$\n",
    "\n",
    "![image](https://user-images.githubusercontent.com/14116020/43362474-455a4b86-92c1-11e8-917a-92041f7a1e2d.png)\n",
    "\n",
    "Para $V = V_0 + at$\n",
    "\n",
    "$$\\frac{V}{R} = \\frac{V_0}{R}  + \\frac{a}{R}.t$$\n",
    "\n",
    "![image](https://user-images.githubusercontent.com/14116020/43362483-84fc2cb4-92c1-11e8-8478-34e4ff8ae21c.png)\n",
    "\n",
    "Para $V^2 = V_{0^2} + 2.a.ΔS$\n",
    "\n",
    "$$\\left(\\frac{V}{R}\\right)^2 = \\left(\\frac{V_0}{R}\\right)^2 + 2.\\frac{a}{R}.Δφ$$\n",
    "\n",
    "![image](https://user-images.githubusercontent.com/14116020/43362499-c7144df2-92c1-11e8-995d-38692a2f167d.png)\n",
    "\n",
    "Logo:\n",
    "\n",
    "$$W = \\frac{V}{R}$$\n",
    "\n",
    "$$λ = \\frac{a}{R}$$\n",
    "\n",
    "$$Δφ = \\frac{ΔS}{R}$$\n",
    "\n",
    "![image](https://user-images.githubusercontent.com/14116020/43362511-236b3cfa-92c2-11e8-8cc2-3207b04f0a84.png)\n",
    "\n",
    "$$a_t = a$$\n",
    "\n",
    "$$a_c = \\frac{V^2}{R}$$"
   ]
  }
 ],
 "metadata": {
  "kernelspec": {
   "display_name": "Python 3",
   "language": "python",
   "name": "python3"
  },
  "language_info": {
   "codemirror_mode": {
    "name": "ipython",
    "version": 3
   },
   "file_extension": ".py",
   "mimetype": "text/x-python",
   "name": "python",
   "nbconvert_exporter": "python",
   "pygments_lexer": "ipython3",
   "version": "3.5.2"
  }
 },
 "nbformat": 4,
 "nbformat_minor": 2
}
