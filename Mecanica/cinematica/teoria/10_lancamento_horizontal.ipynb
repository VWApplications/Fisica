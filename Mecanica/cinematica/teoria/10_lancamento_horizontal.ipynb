{
 "cells": [
  {
   "cell_type": "markdown",
   "metadata": {},
   "source": [
    "## Lançamento Horizontal\n",
    "***"
   ]
  },
  {
   "cell_type": "markdown",
   "metadata": {},
   "source": [
    "Todo corpo lançado horizontalmente com velocidade $V_0$ de um ponto $L$, próximo da superfície da Terra, desprezados os atritos do ar fica sujeito unicamente à força peso, (sempre de direção vertical e sentido para baixo) e que obedece à trajetória da figura abaixo, que é um arco de parábola.\n",
    "\n",
    "![image](https://user-images.githubusercontent.com/14116020/43361879-69d36686-92b3-11e8-845e-f4aa38c77d5a.png)\n",
    "\n",
    "Colocando-se a origem do sistema de referência no ponto de lançamento, orienta-se, por exemplo, o eixo X para a direita e o eixo Y para baixo.\n",
    "\n",
    "![image](https://user-images.githubusercontent.com/14116020/43361889-89ea0560-92b3-11e8-8a31-ccb661be5d7d.png)\n",
    "\n",
    "Decompõe-se o movimento em duas parcelas:\n",
    "\n",
    "![image](https://user-images.githubusercontent.com/14116020/43361892-938a73de-92b3-11e8-8cbf-3af17f72c2bb.png)\n",
    "\n",
    "**Segundo o eixo X**: Trata-se de um movimento horizontal uniforme com velocidade constante de intensidade $V_0$, que é a velocidade de lançamento:\n",
    "\n",
    "$S = S_0 + V.T$\n",
    "\n",
    "$X = 0 + V_0.T$\n",
    "\n",
    "$X = V_0.T$\n",
    "\n",
    "**Segundo o eixo Y**: Trata-se de um movimento uniformemente variado com velocidade inicial $V_0=0$, ou seja, é uma queda livre com o corpo abandonado da origem, sujeito apenas à aceleração da gravidade, de intensidade $g$, direção vertical e sentido para baixo.\n",
    "\n",
    "\\begin{align*} \n",
    "S & = S_0 + V_0.T + \\frac{at^2}{2} & V_y & = V_{0y} + a.t & V^2 & = V_{0^2} + 2.a.\\Delta S \\\\\n",
    "Y & = 0 + 0.t + \\frac{gt^2}{2} & V_y & = 0 + g.t & V_{y^2} & = V_{0y^2} + 2.g.\\Delta h \\\\\n",
    "Y & = \\frac{gt^2}{2} & V_y & = gt & V_{y^2} & = 2.g.\\Delta h \\\\\n",
    "\\end{align*}\n"
   ]
  },
  {
   "cell_type": "markdown",
   "metadata": {},
   "source": [
    "***\n",
    "### O que você deve saber\n",
    "***"
   ]
  },
  {
   "cell_type": "markdown",
   "metadata": {},
   "source": [
    "A máxima distância horizontal por ele atingida é chamada de alcance $a$ (veja figura abaixo)\n",
    "\n",
    "![image](https://user-images.githubusercontent.com/14116020/43362011-2f80d3ee-92b6-11e8-8e28-f87f00bbef01.png)\n",
    "\n",
    "Em cada ponto da trajetória, a velocidade resultante $V_R=V$ é dada por:\n",
    "\n",
    "![image](https://user-images.githubusercontent.com/14116020/43362013-3eb95f84-92b6-11e8-9450-b80f382e0f7f.png)\n",
    "\n",
    "\\begin{align*}\n",
    "V_x & = V_0 = \\text{constante} \\\\\n",
    "V_y & = g.t \\\\\n",
    "V_r & = V \\\\\n",
    "V^2 & = V_{0^2} + V_{y^2}\n",
    "\\end{align*}\n",
    "\n",
    "A medida que o abacaxi vai caindo, a flecha também, na mesma proporção, pois ambos caem sujeitos apenas à ação da aceleração da gravidade $g$.\n",
    "\n",
    "![image](https://user-images.githubusercontent.com/14116020/43362027-835f9b44-92b6-11e8-9fb2-2dd85b3a5ab3.png)\n",
    "\n",
    "Se o garoto fizesse mira sobre o abacaxi e ele não caísse, o garoto erraria o alvo, pois a flecha, à medida que avança na horizontal com velocidade constante $V_0$, também está caindo com velocidade $V_y$.\n",
    "\n",
    "Se o instante da queda do abacaxi e do lançamento da flecha for simultâneo:\n",
    "\n",
    "* Os dois possuirão em cada instante, as mesmas velocidades horizontal e vertical\n",
    "\n",
    "\n",
    "* Para se determinar o instante do encontro, você deve isolar o tempo na equação: $X = V_0.t \\rightarrow t = \\frac{X}{V_0}$. Substituí-lo na equação da altura: $Y = \\frac{g.t^2}{2} \\rightarrow Y = \\frac{g.X^2}{2.V_{0^2}}$"
   ]
  }
 ],
 "metadata": {
  "kernelspec": {
   "display_name": "Python 3",
   "language": "python",
   "name": "python3"
  },
  "language_info": {
   "codemirror_mode": {
    "name": "ipython",
    "version": 3
   },
   "file_extension": ".py",
   "mimetype": "text/x-python",
   "name": "python",
   "nbconvert_exporter": "python",
   "pygments_lexer": "ipython3",
   "version": "3.5.2"
  }
 },
 "nbformat": 4,
 "nbformat_minor": 2
}
