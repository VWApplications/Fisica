{
 "cells": [
  {
   "cell_type": "markdown",
   "metadata": {},
   "source": [
    "## Composição de movimentos\n",
    "***"
   ]
  },
  {
   "cell_type": "markdown",
   "metadata": {},
   "source": [
    "Você está olhando de cima a carroceria de um caminhão que está em repouso. Sobre a carroceria uma bola está se movendo com velocidade $V_1$, em relação à mesma, na direção e sentido indicados na figura. Essa velocidade é chamada de **velocidade relativa**.\n",
    "\n",
    "![image](https://user-images.githubusercontent.com/14116020/43362052-3e569ace-92b7-11e8-9921-ac9630026387.png)\n",
    "\n",
    "Em seguida, o caminhão adquire movimento retilíneo e uniforme de direção horizontal e sentido para a direita, com velocidade $V_2$ em relação à Terra. Essa velocidade é chamada de **velocidade de arrastamento**.\n",
    "\n",
    "![image](https://user-images.githubusercontent.com/14116020/43362059-56a645b6-92b7-11e8-81bf-9be0d3605fd8.png)\n",
    "\n",
    "Segundo o princípio da independência de movimentos (Galileu Galilei) a bola apresentará dois movimentos parciais:\n",
    "\n",
    "* Primeiro em relação à carroceria ($V_1$)\n",
    "\n",
    "\n",
    "* Segundo, provocado pelo deslocamento do caminhão ($V_2$).\n",
    "\n",
    "A velocidade da bola em relação à Terra (vista por uma pessoa na Terra), que é chamada de velocidade resultante, será  $V = V_1 + V_2$ tal que:\n",
    "\n",
    "![image](https://user-images.githubusercontent.com/14116020/43362074-7df432ea-92b7-11e8-9c8a-2a87831803f1.png)"
   ]
  },
  {
   "cell_type": "markdown",
   "metadata": {},
   "source": [
    "***\n",
    "### O que você deve saber\n",
    "***\n",
    "\n",
    "Um barco desenvolve velocidade própria (em relação à água) $V_B = 4m/s$ num rio em que a correnteza tem velocidade $V_c=3m/s$ (velocidade da água em relação à margem). O rio tem largura de $100m$. Pede-se:"
   ]
  },
  {
   "cell_type": "markdown",
   "metadata": {},
   "source": [
    "***\n",
    "\n",
    "**a)** A velocidade ($V$) do barco em relação à margem, quando ele sobe o rio.\n",
    "\n",
    "![image](https://user-images.githubusercontent.com/14116020/43362095-d222f626-92b7-11e8-8ae3-6b71a92dfa9a.png)\n",
    "\n",
    "Em módulo: $V = 4 - 3$\n",
    "\n",
    "Resultado: $V = 1m/s$, ou seja, velocidade com que uma pessoa parada na margem do rio veria o barco passar por ela, subindo o rio"
   ]
  },
  {
   "cell_type": "markdown",
   "metadata": {},
   "source": [
    "***\n",
    "\n",
    "**b)** A velocidade ($V$) do barco (em relação à margem), quando ele desce o rio.\n",
    "\n",
    "![image](https://user-images.githubusercontent.com/14116020/43362107-1580b39a-92b8-11e8-80de-5b73f66ee19d.png)\n",
    "\n",
    "Em módulo: $V = 4 + 3$\n",
    "\n",
    "Resultado: $V = 7m/s$, ou seja, velocidade com que uma pessoa parada na margem do rio veria o barco passar por ela, descendo o rio"
   ]
  },
  {
   "cell_type": "markdown",
   "metadata": {},
   "source": [
    "***\n",
    "\n",
    "**c)** A velocidade ($V$) do barco em relação à margem sabendo que durante a travessia seu eixo se mantém perpendicular à mesma.\n",
    "\n",
    "![image](https://user-images.githubusercontent.com/14116020/43362117-4e696a3a-92b8-11e8-9414-048011b2fc7e.png)\n",
    "\n",
    "Em módulo: $V^2 = V_{b^2} + V_{c^2} \\rightarrow V = \\sqrt{14} + 9$\n",
    "\n",
    "Resultado: $V = 5m/s$, ou seja, velocidade do barco visto por uma pessoa parada na margem do rio"
   ]
  },
  {
   "cell_type": "markdown",
   "metadata": {},
   "source": [
    "***\n",
    "\n",
    "**d)** Qual é o tempo mínimo de travessia?\n",
    "\n",
    "Esse tempo só ocorre quando o barco é colocado perpendicularmente à margem do rio (item anterior com $V = 5m/s$).\n",
    "\n",
    "Em modulo: $V = \\frac{\\Delta S}{\\Delta t} \\rightarrow 5 = \\frac{100}{\\Delta t}$\n",
    "\n",
    "Resultado: $\\Delta t = 20s$, lembre-se de que esse tempo não depende da velocidade da correnteza, mas apenas da velocidade do barco e da largura do rio"
   ]
  },
  {
   "cell_type": "markdown",
   "metadata": {},
   "source": [
    "***\n",
    "\n",
    "**e)** Determine, com o eixo perpendicular à margem, a distância que o barco percorre rio abaixo, ou seja, a distância $XY$ (figura).\n",
    "\n",
    "![image](https://user-images.githubusercontent.com/14116020/43362143-0301332e-92b9-11e8-81c0-5e0092fb5df5.png)\n",
    "\n",
    "Essa distância é devida apenas à velocidade da correnteza de valor:\n",
    "\n",
    "$V_c = 3m/s$\n",
    "\n",
    "$V_c = \\frac{\\Delta S}{\\Delta t}$\n",
    "\n",
    "$3 =  \\frac{\\Delta S}{20}$\n",
    "\n",
    "$\\Delta S = XY = 60m$"
   ]
  },
  {
   "cell_type": "markdown",
   "metadata": {},
   "source": [
    "***\n",
    "\n",
    "**f)** Qual é a distância total que o barco percorre (distância PX) do item anterior?\n",
    "\n",
    "![image](https://user-images.githubusercontent.com/14116020/43362163-47e197ae-92b9-11e8-811d-399f565c3d33.png)\n",
    "\n",
    "$(PX)^2 = 60^2 + 100^2$\n",
    "\n",
    "$PX = 117m$"
   ]
  },
  {
   "cell_type": "markdown",
   "metadata": {},
   "source": [
    "***\n",
    "\n",
    "g) Qual deve ser a velocidade (V) do barco em relação à margem de modo que a distância percorrida durante a travessia seja mínima? Que ângulo o barco deve estar inclinado em relação à perpendicular à margem?\n",
    "\n",
    "Para que a distância percorrida seja mínima o barco deve atravessar o rio perpendicularmente, ou seja, pelo caminho $PY$ (menor distância entre as margens)\n",
    "\n",
    "Para que isso ocorra o barco deve estar posicionado conforme a figura abaixo.\n",
    "\n",
    "![image](https://user-images.githubusercontent.com/14116020/43362171-878d45a6-92b9-11e8-902f-86fd14b6d195.png)\n",
    "\n",
    "Assim, a velocidade resultante ($V$) deve ser perpendicular à margem de modo que $V_b$ forme um ângulo β com $V$, tal que: $Senβ = \\frac{V_c}{V_b}$\n",
    "\n",
    "$V_{b^2} = V^2 + V_{c^2}$\n",
    "\n",
    "$4^2 = V^2 + 9$\n",
    "\n",
    "$V = \\sqrt{7} = 2,6m/s$\n",
    "\n",
    "$senβ = \\frac{3}{4}$\n",
    "\n",
    "β é o arco cujo seno é $\\frac{3}{4}$"
   ]
  }
 ],
 "metadata": {
  "kernelspec": {
   "display_name": "Python 3",
   "language": "python",
   "name": "python3"
  },
  "language_info": {
   "codemirror_mode": {
    "name": "ipython",
    "version": 3
   },
   "file_extension": ".py",
   "mimetype": "text/x-python",
   "name": "python",
   "nbconvert_exporter": "python",
   "pygments_lexer": "ipython3",
   "version": "3.5.2"
  }
 },
 "nbformat": 4,
 "nbformat_minor": 2
}
