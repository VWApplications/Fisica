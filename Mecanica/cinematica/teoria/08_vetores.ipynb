{
 "cells": [
  {
   "cell_type": "markdown",
   "metadata": {},
   "source": [
    "## Vetores\n",
    "***"
   ]
  },
  {
   "cell_type": "markdown",
   "metadata": {},
   "source": [
    "Pode-se determinar o **vetor soma** ou **vetor resultante** de dois ou mais vetores através de dois processos:\n",
    "\n",
    "![image](https://user-images.githubusercontent.com/14116020/43361213-998cc7c8-929f-11e8-92b5-3f54066bf5b1.png)\n",
    "\n",
    "* Não se deve escrever $\\vec{V}=20m/s$, mas sim $V=20m/s$ (sem a seta)\n",
    "\n",
    "\n",
    "* Um **vetor nulo** deve ser representado da seguinte maneira $\\vec{v}=\\vec{0}$\n",
    "\n",
    "\n",
    "A **direção de um vetor** também pode ser definida como sendo o ângulo que ele forma com a horizontal ou a vertical. Exemplo:\n",
    "\n",
    "* Determine a intensidade (no SI), direção e sentido do vetor  da figura abaixo.\n",
    "\n",
    "![image](https://user-images.githubusercontent.com/14116020/43361234-0de7f9ee-92a0-11e8-8cd0-6962ba5173ce.png)\n",
    "\n",
    "\\begin{equation}\n",
    "\\begin{split}\n",
    "  tg_a & = \\frac{\\text{cateto oposto}}{\\text{cateto adjacente}} = \\frac{10}{10\\sqrt{3}} = \\frac{\\sqrt{3}}{3} \\\\\n",
    "     a & = 30º \\\\\n",
    "sen30º & = 10/V \\\\\n",
    "     V & = 20m/s\n",
    "\\end{split}\n",
    "\\end{equation}\n",
    "\n",
    "* **Intensidade:** $V=20m/s$\n",
    "* **Sentido:** NE\n",
    "* **Direção:** Formando ângulo de 30º com a horizontal"
   ]
  },
  {
   "cell_type": "markdown",
   "metadata": {},
   "source": [
    "Dois ou mais vetores são iguais quando têm ao mesmo tempo mesma intensidade, mesma direção e mesmo sentido.\n",
    "\n",
    "![image](https://user-images.githubusercontent.com/14116020/43361302-f7cb0118-92a1-11e8-9fc9-a2c92ec9d8d0.png)\n",
    "\n",
    "Dos vetores acima, são iguais: $\\vec{A} e \\vec{F}$, pois tem a mesma intensidade (2u), mesma direção (vertical) e mesmo sentido (norte, N)"
   ]
  },
  {
   "cell_type": "markdown",
   "metadata": {},
   "source": [
    "***\n",
    "### Rosa dos ventos\n",
    "***"
   ]
  },
  {
   "cell_type": "markdown",
   "metadata": {},
   "source": [
    "![image](https://user-images.githubusercontent.com/14116020/43361331-41debd58-92a2-11e8-80d0-d4084e8e9cd4.png)\n",
    "\n",
    "\n",
    "![image](https://user-images.githubusercontent.com/14116020/43361333-49a0d80a-92a2-11e8-8d3b-44efda04eb20.png)"
   ]
  },
  {
   "cell_type": "markdown",
   "metadata": {},
   "source": [
    "***\n",
    "### Adição de vetores\n",
    "***"
   ]
  },
  {
   "cell_type": "markdown",
   "metadata": {},
   "source": [
    "Pode-se determinar o vetor soma ou vetor resultante de dois ou mais vetores através de dois processos:\n",
    "\n",
    "**Método da linha poligonal** – Dados os vetores abaixo, determine o vetor soma (vetor resultante) $\\vec{S} = \\vec{A}+\\vec{B}+\\vec{C}$ pelo método da linha poligonal\n",
    "\n",
    "![image](https://user-images.githubusercontent.com/14116020/43361343-7d751fce-92a2-11e8-8440-706179385935.png)\n",
    "\n",
    "* Esse método é mais utilizado quando se está interessado apenas na orientação (direção e sentido) do vetor soma (resultante) $\\vec{S}$.\n",
    "\n",
    "\n",
    "* **Observação**: Se, na adição de vetores, a extremidade do último coincidir com a origem do primeiro, o resultado é um vetor nulo ($\\vec{S}=\\vec{0}$).\n",
    "\n",
    "**Método do paralelogramo** – Dados os vetores abaixo, determine o vetor soma (resultante) $\\vec{S} = \\vec{A}+\\vec{B}$ pelo método do paralelogramo.\n",
    "\n",
    "![image](https://user-images.githubusercontent.com/14116020/43361355-eb96aef0-92a2-11e8-93ea-7dbf9871140e.png)\n",
    "\n",
    "* Coloque a origem dos dois vetores em um mesmo ponto e, em seguida, trace pelas extremidades de cada um deles, uma paralela ao outro\n",
    "\n",
    "![image](https://user-images.githubusercontent.com/14116020/43361358-0117c7be-92a3-11e8-9688-ea75cb44422d.png)\n",
    "\n",
    "* O vetor $\\vec{S}$ da figura é o vetor soma ou o vetor resultante.\n",
    "\n",
    "\n",
    "* Sendo β o ângulo entre os dois vetores, pode-se determinar seu módulo pela lei dos cossenos:\n",
    "\n",
    "![image](https://user-images.githubusercontent.com/14116020/43361364-1cb76592-92a3-11e8-9d74-7d3a599297a5.png)\n",
    "\n",
    "$$S^2 = A^2 + B^2 + 2.A.B.cosβ$$\n",
    "\n",
    "![image](https://user-images.githubusercontent.com/14116020/43361369-43eca1cc-92a3-11e8-8d28-d98301d7871a.png)\n",
    "\n",
    "**Observação**: Se os vetores forem perpendiculares ($cos90º = 0$), teremos que:\n",
    "\n",
    "\\begin{equation} \\label{eq1}\n",
    "\\begin{split}\n",
    "  S^2 & = A^2 + B^2 + 2.A.B.cos90º \\\\\n",
    "  S^2 & = A^2 + B^2 + 2.A.B.0 \\\\\n",
    "  S^2 & = A^2 + B^2 = \\text{Teorema de Pitágoras}\n",
    "\\end{split}\n",
    "\\end{equation}"
   ]
  },
  {
   "cell_type": "markdown",
   "metadata": {},
   "source": [
    "***\n",
    "### Subtração de vetores\n",
    "***"
   ]
  },
  {
   "cell_type": "markdown",
   "metadata": {},
   "source": [
    "Dois vetores são opostos quando têm a mesma intensidade, mesma direção, mas sentidos contrários.\n",
    "\n",
    "![image](https://user-images.githubusercontent.com/14116020/43361391-ed7ed570-92a3-11e8-90bd-f40977bdeb2f.png)\n",
    "\n",
    "Em seguida, calcular $\\vec{S} = \\vec{A} - \\vec{B} \\rightarrow \\vec{S} = \\vec{A} + (- \\vec{B})$ pelos métodos da linha poligonal ou do paralelogramo:\n",
    "\n",
    "![image](https://user-images.githubusercontent.com/14116020/43361405-4cf6212a-92a4-11e8-83df-cecfd0bcf1d8.png)\n"
   ]
  },
  {
   "cell_type": "markdown",
   "metadata": {},
   "source": [
    "***\n",
    "### Produto de um número real por um vetor\n",
    "***\n",
    "\n",
    "O produto $\\vec{P}$ de um número real $n$ por um vetor $\\vec{V}$ é dado por:\n",
    "\n",
    "$$\\vec{P} = n.\\vec{V}$$\n",
    "\n",
    "Características de $\\vec{P}$:\n",
    "\n",
    "![image](https://user-images.githubusercontent.com/14116020/43361418-9267549a-92a4-11e8-90f5-d52c4ccfabd1.png)\n",
    "\n",
    "Exemplos:\n",
    "\n",
    "Dado o vetor $\\vec{V}$ de intensidade $V=3$ unidades (3u), pede-se:\n",
    "\n",
    "![image](https://user-images.githubusercontent.com/14116020/43361421-ad1f56ca-92a4-11e8-856c-a8d7d12426dd.png)\n",
    "\n",
    "![image](https://user-images.githubusercontent.com/14116020/43361424-b1da7262-92a4-11e8-8260-26f625f3a8c2.png)\n",
    "\n",
    "**Decomposição cartesiana de um vetor** – Pode-se, a partir de um vetor $\\vec{V}$, obter os vetores $\\vec{V_h}$ e $\\vec{V_v}$ que deram origem a ele, traçando retas paralelas aos eixos $O_h$ e $O_v$\n",
    "\n",
    "![image](https://user-images.githubusercontent.com/14116020/43361436-f7407a72-92a4-11e8-907e-fa5170174781.png)\n",
    "\n",
    "![image](https://user-images.githubusercontent.com/14116020/43361439-fd029d8c-92a4-11e8-961b-dff4e84b5e6d.png)"
   ]
  }
 ],
 "metadata": {
  "kernelspec": {
   "display_name": "Python 3",
   "language": "python",
   "name": "python3"
  },
  "language_info": {
   "codemirror_mode": {
    "name": "ipython",
    "version": 3
   },
   "file_extension": ".py",
   "mimetype": "text/x-python",
   "name": "python",
   "nbconvert_exporter": "python",
   "pygments_lexer": "ipython3",
   "version": "3.5.2"
  }
 },
 "nbformat": 4,
 "nbformat_minor": 2
}
