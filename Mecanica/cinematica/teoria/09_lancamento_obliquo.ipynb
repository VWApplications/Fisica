{
 "cells": [
  {
   "cell_type": "markdown",
   "metadata": {},
   "source": [
    "## Lançamento Oblíquo\n",
    "***"
   ]
  },
  {
   "cell_type": "markdown",
   "metadata": {},
   "source": [
    "### Movimento parcial na direção vertical (eixo Y)\n",
    "***\n",
    "\n",
    "![image](https://user-images.githubusercontent.com/14116020/43361465-79253014-92a5-11e8-970c-3ab2476e411b.png)\n",
    "\n",
    "#### Equações:\n",
    "\n",
    "$Y = V_{0y}.t - \\frac{gt^2}{2}$\n",
    "\n",
    "$V_y = V_{0y} - gt$\n",
    "\n",
    "$V_{y^2} = V_{0y^2} - 2g\\Delta Y$\n",
    "\n",
    "#### Na subida:\n",
    "\n",
    "* **Movimento é progressivo**: pois o deslocamento ocorre no sentido crescente da trajetória\n",
    "\n",
    "\n",
    "* **Movimento é retardado**: pois o módulo da velocidade está diminuindo.\n",
    "\n",
    "#### Na descida:\n",
    "\n",
    "* **Movimento é retrogrado**: pois o deslocamento ocorre no sentido decrescente da trajetória\n",
    "\n",
    "\n",
    "* **Movimento é acelerado**: pois o módulo da velocidade está aumentando.\n",
    "\n",
    "#### No ponto mais alto da trajetória\n",
    "\n",
    "No ponto mais alto da trajetória, a velocidade do corpo se anula ($V_y=0$), pois é o ponto em que o corpo inverte o sentido de seu movimento e nesse ponto a altura atingida pelo corpo é máxima.\n",
    "\n",
    "#### Observações\n",
    "\n",
    "O tempo de subida é igual ao tempo de descida\n",
    "\n",
    "A velocidade ($V_{oy}$) de lançamento na origem é igual à mesma velocidade de chegada à origem, mas de sinal contrário ($-V_{oy}$).\n",
    "\n",
    "Em qualquer ponto da trajetória o corpo tem duas velocidades de mesmo módulo:\n",
    "\n",
    "* positiva na subida.\n",
    "\n",
    "\n",
    "* negativa na descida.\n",
    "\n",
    "#### Representação gráfica do movimento:\n",
    "\n",
    "![image](https://user-images.githubusercontent.com/14116020/43361510-896fca0a-92a6-11e8-9685-0994ac143dee.png)"
   ]
  },
  {
   "cell_type": "markdown",
   "metadata": {},
   "source": [
    "***\n",
    "### Movimento parcial na direção horizontal (eixo X)\n",
    "***\n",
    "\n",
    "![image](https://user-images.githubusercontent.com/14116020/43361516-a8d50450-92a6-11e8-88d7-a83e71f9744a.png)\n",
    "\n",
    "O tempo que a bola permanece no ar está relacionado  com a altura: maior altura, maior tempo de permanência no ar (conforme figura abaixo )\n",
    "\n",
    "![image](https://user-images.githubusercontent.com/14116020/43361519-b8be3616-92a6-11e8-9dc7-64dfc57fbefd.png)\n",
    "\n",
    "$$t(Q) > t(P) = t(R)$$\n",
    "\n",
    "**Equação**: $X = V_x.t$\n",
    "\n",
    "O **Alcance é máximo** quando $a=45º$, Neste caso:\n",
    "\n",
    "* Alcance $X_{\\text{máx}}$ é quatro vezes maior que a altura máxima alcançada ($h_{\\text{máx}}$)\n",
    "\n",
    "\n",
    "* $X_{\\text{máx}} = 4h_{\\text{máx}}$\n",
    "\n",
    "Se a altura maxima ($h_{\\text{máx}}$) é igual ao alcance $X$, temos $tg_a = 4$\n",
    "\n",
    "O vetor velocidade $V$ é sempre tangente à trajetória em cada ponto e sempre decomposto em $V_X$ e $V_Y$\n",
    "\n",
    "![image](https://user-images.githubusercontent.com/14116020/43361532-56d1f32e-92a7-11e8-865a-bc7ffeed608a.png)\n",
    "\n",
    "* Em qualquer ponto é válida a relação $V^2 = V_{x^2} + V_{y^2}$.\n",
    "\n",
    "\n",
    "* Observe que no ponto mais alto da trajetória a velocidade vetorial V não é nula, tem intensidade mínima e é igual à componente horizontal, ou seja, $V=V_X$.\n",
    "\n",
    "Se os dois ângulos de lançamento forem complementares entre si ($α_1 + α_2 = 90º$), e a velocidade inicial for a mesma, o alcance horizontal é o mesmo.\n",
    "\n",
    "![image](https://user-images.githubusercontent.com/14116020/43361542-915915cc-92a7-11e8-94bc-5064c1c1f20b.png)"
   ]
  }
 ],
 "metadata": {
  "kernelspec": {
   "display_name": "Python 3",
   "language": "python",
   "name": "python3"
  },
  "language_info": {
   "codemirror_mode": {
    "name": "ipython",
    "version": 3
   },
   "file_extension": ".py",
   "mimetype": "text/x-python",
   "name": "python",
   "nbconvert_exporter": "python",
   "pygments_lexer": "ipython3",
   "version": "3.5.2"
  }
 },
 "nbformat": 4,
 "nbformat_minor": 2
}
