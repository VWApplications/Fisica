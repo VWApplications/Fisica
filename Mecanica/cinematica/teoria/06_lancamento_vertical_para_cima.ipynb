{
 "cells": [
  {
   "cell_type": "markdown",
   "metadata": {},
   "source": [
    "## Lançamento vertical para cima"
   ]
  },
  {
   "cell_type": "markdown",
   "metadata": {},
   "source": [
    "***\n",
    "#### Na subida\n",
    "***\n",
    "\n",
    "* **Movimento é progressivo**: pois o deslocamento ocorre no sentido crescente da trajetória.\n",
    "\n",
    "\n",
    "* **Movimento é retardado**: pois o módulo da velocidade está diminuindo.\n",
    "\n",
    "![img](https://user-images.githubusercontent.com/14116020/34075251-414f8656-e2a8-11e7-9cce-3b3612634068.jpg)"
   ]
  },
  {
   "cell_type": "markdown",
   "metadata": {},
   "source": [
    "***\n",
    "#### Na descida\n",
    "***\n",
    "\n",
    "* **Movimento é retrogrado**: pois o deslocamento ocorre no sentido decrescente da trajetória.\n",
    "\n",
    "\n",
    "* **Movimento é acelerado**: pois o módulo da velocidade está aumentando."
   ]
  },
  {
   "cell_type": "markdown",
   "metadata": {},
   "source": [
    "***\n",
    "#### Observações\n",
    "***\n",
    "\n",
    "No **ponto mais alto da trajetória**, a velocidade do corpo se anula ($V = 0$), pois é o ponto em que o corpo inverte o sentido de seu movimento e nesse ponto a altura atingida pelo corpo é máxima.\n",
    "\n",
    "O tempo de subida é igual ao tempo de descida, desde que o corpo saia e volte para o mesmo ponto do lançamento.\n",
    "\n",
    "A velocidade ($V_0$) de lançamento na origem é igual à mesma velocidade de chegada à origem, mas de sinal contrário ($-V_0$).\n",
    "\n",
    "Em qualquer ponto da trajetória o corpo tem duas velocidades de mesmo módulo, positiva na subida e negativa na descida\n",
    "\n",
    "Se um móvel $A$ partir um tempo $x$ antes de um móvel $B$, têm-se:\n",
    "\n",
    "$$T_A - T_B = X \\rightarrow T_A = T_B + X$$\n",
    "\n",
    "Essa equação deve-se substituir em $A$ para continuar a resolução do exercício\n",
    "\n",
    "A queda dos corpos é, portanto, um M.R.U.V na vertical com aceleração igual a aceleração da gravidade"
   ]
  },
  {
   "cell_type": "markdown",
   "metadata": {},
   "source": [
    "***\n",
    "#### Representação gráfica do movimento\n",
    "***\n",
    "\n",
    "![img](https://user-images.githubusercontent.com/14116020/34075282-f9d66564-e2a8-11e7-814f-0c9d45d786d2.jpg)"
   ]
  }
 ],
 "metadata": {
  "kernelspec": {
   "display_name": "Python 3",
   "language": "python",
   "name": "python3"
  },
  "language_info": {
   "codemirror_mode": {
    "name": "ipython",
    "version": 3
   },
   "file_extension": ".py",
   "mimetype": "text/x-python",
   "name": "python",
   "nbconvert_exporter": "python",
   "pygments_lexer": "ipython3",
   "version": "3.5.2"
  }
 },
 "nbformat": 4,
 "nbformat_minor": 2
}
