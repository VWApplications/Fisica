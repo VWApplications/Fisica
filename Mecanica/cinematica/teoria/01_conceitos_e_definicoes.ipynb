{
 "cells": [
  {
   "cell_type": "markdown",
   "metadata": {},
   "source": [
    "## Conceitos e definições - movimento e repouso\n",
    "***\n",
    "\n",
    "* O conceito de ponto material ou corpo extenso é relativo, pois um elefante será um corpo extenso em relação a uma formiga e um  ponto material em relação ao planeta Terra.\n",
    "\n",
    "![img](https://user-images.githubusercontent.com/14116020/34074187-ec6a9c96-e290-11e7-83ec-677a12a79884.jpg)\n",
    "\n",
    "* Qualquer elemento do sistema solar (planetas, estrela, satélites, etc.) está sempre em movimento um em relação ao outro.\n",
    "\n",
    "\n",
    "* A trajetória de um corpo depende do referencial. Como exemplo, considere um vagão passando por uma plataforma com velocidade constante, tendo em seu interior uma pessoa sentada e, na plataforma, outra pessoa observando o vagão passar.\n",
    "\n",
    "![img](https://user-images.githubusercontent.com/14116020/34074256-8ab91548-e292-11e7-9f4d-32af54b24b83.jpg)\n",
    "\n",
    "* Um lustre se desprende do teto. Observe nas figuras abaixo que cada pessoa, ou seja, cada referencial observará trajetórias diferentes para o lustre.\n",
    "\n",
    "    - Primeiro observará uma reta vertical\n",
    "    \n",
    "    - Segundo um arco de parábola.\n",
    "    \n",
    "![img](https://user-images.githubusercontent.com/14116020/34074270-bcfd523a-e292-11e7-8fd3-05a03c680a6a.jpg)\n",
    "\n",
    "![img](https://user-images.githubusercontent.com/14116020/34074272-cdfd65f2-e292-11e7-8261-0a0825b0ceeb.jpg)"
   ]
  },
  {
   "cell_type": "markdown",
   "metadata": {},
   "source": [
    "***\n",
    "### Exercicios\n",
    "***"
   ]
  },
  {
   "cell_type": "markdown",
   "metadata": {},
   "source": [
    "**1)** Um pássaro está voando e se afastando de uma árvore. Em relação ao pássaro, a árvore está em repouso ou em movimento?\n",
    "\n",
    "> A árvore está em movimento em relação ao pássaro e vice-versa, pois a distância entre eles está variando com o tempo"
   ]
  },
  {
   "cell_type": "markdown",
   "metadata": {},
   "source": [
    "***"
   ]
  },
  {
   "attachments": {},
   "cell_type": "markdown",
   "metadata": {},
   "source": [
    "**2)** Uma bicicleta está se deslocando horizontalmente para o leste com velocidade constante.\n",
    "\n",
    "* **a)** O banco está em repouso ou em movimento em relação ao pneu?\n",
    "\n",
    "![image](https://user-images.githubusercontent.com/14116020/34076182-99b677de-e2c4-11e7-82c4-dc7da8830a36.png)\n",
    "\n",
    "> Fixar um ponto (A) em qualquer parte do banco e outro ponto (B) em qualquer parte do pneu, podemos observar que a distância entre os dois pontos fixos (A e B) está variando e, portanto, o banco está em movimento em relação ao pneu e vice-versa.\n",
    "\n",
    "* **b)** Esboce a trajetória de um ponto do pneu, vista por um observador fixo no solo.\n",
    "\n",
    "![image](https://user-images.githubusercontent.com/14116020/34076183-b425893e-e2c4-11e7-8745-0c78ba2c527f.png)\n",
    "\n",
    "> À medida que a bicicleta se desloca para a direita, um ponto fixo no pneu gira no sentido horário e a união dessas posições (1, 2, 3, 4 e 5) fornece a trajetória desse ponto."
   ]
  },
  {
   "cell_type": "markdown",
   "metadata": {},
   "source": [
    "***"
   ]
  },
  {
   "cell_type": "markdown",
   "metadata": {},
   "source": [
    "**3)** De um avião que voa de leste para oeste com velocidade constante, abandona-se uma bomba. Despreze o atrito com o ar e esboce a trajetória da bomba quando vista em relação a um observador fixo no solo e em relação a um observador no avião.\n",
    "\n",
    "* **Observador fixo**:\n",
    "\n",
    "> Observe que, como o avião tem velocidade constante e despreza-se a resistência do ar, pelo princípio da inércia a bomba que é abandonada, tem sempre a mesma velocidade horizontal que a do avião e estará sempre abaixo dele.\n",
    "\n",
    "![image](https://user-images.githubusercontent.com/14116020/34076200-8a9d3138-e2c5-11e7-9ce3-718aef07ae2f.png)\n",
    "\n",
    "> Ao mesmo tempo, devido à gravidade efetuará um movimento vertical e para baixo. Compondo esses dois movimentos, um observador fixo na Terra observará o arco de parábola da figura.\n",
    "\n",
    "* **Observador no avião**:\n",
    "\n",
    "> Para um referencial ligado ao avião, a bomba terá um movimento de queda vertical devido à ação da gravidade e sua trajetória será um segmento de reta vertical\n"
   ]
  }
 ],
 "metadata": {
  "kernelspec": {
   "display_name": "Python 3",
   "language": "python",
   "name": "python3"
  },
  "language_info": {
   "codemirror_mode": {
    "name": "ipython",
    "version": 3
   },
   "file_extension": ".py",
   "mimetype": "text/x-python",
   "name": "python",
   "nbconvert_exporter": "python",
   "pygments_lexer": "ipython3",
   "version": "3.5.2"
  }
 },
 "nbformat": 4,
 "nbformat_minor": 2
}
