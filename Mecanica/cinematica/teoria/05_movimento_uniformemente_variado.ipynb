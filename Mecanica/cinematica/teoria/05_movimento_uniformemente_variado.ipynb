{
 "cells": [
  {
   "cell_type": "markdown",
   "metadata": {},
   "source": [
    "## Movimento Uniformemente Variado (MUV)"
   ]
  },
  {
   "cell_type": "markdown",
   "metadata": {},
   "source": [
    "***\n",
    "### Conceitos Básicos\n",
    "***\n",
    "\n",
    "#### Aceleração Escalar:\n",
    "\n",
    "* A aceleração escalar média de um móvel significa de quanto sua velocidade varia na unidade de tempo.\n",
    "\n",
    "\n",
    "* Assim, se um móvel tem aceleração escalar média de $2m/s^2$ significa que sua velocidade varia de $2m/s$ em cada $1s$; de $8km/h^2$  significa que sua velocidade varia de $8km/h$ em cada $1h$, e assim por diante.\n",
    "\n",
    "#### Aceleração Instantânea\n",
    "\n",
    "* Enquanto a aceleração média é calculada em certo intervalo de tempo, a aceleração instantânea é calculada no instante (intervalo de tempo muito pequeno, tendendo a zero).\n",
    "\n",
    "#### Movimento Progressivo\n",
    "\n",
    "* **Velocidade** negativa\n",
    "\n",
    "\n",
    "* **Deslocamento** é no sentido dos marcos decrescentes\n",
    "\n",
    "#### Movimento Retrógrado\n",
    "\n",
    "* **Velocidade** negativa\n",
    "\n",
    "\n",
    "* **Deslocamento** é no sentido dos marcos decrescentes\n",
    "\n",
    "#### Movimento Acelerado\n",
    "\n",
    "* **Velocidade** e **aceleração** têm o mesmo sinal (ambas são positivas ou ambas são negativas).\n",
    "\n",
    "\n",
    "* **Módulo da velocidade** está aumentando.\n",
    "\n",
    "#### Movimento Retardado\n",
    "\n",
    "* **Velocidade** e **aceleração** têm sinais opostos (quando um é positivo o outro é negativo e vice-versa).\n",
    "\n",
    "\n",
    "* **Módulo da velocidade** está diminuindo."
   ]
  },
  {
   "cell_type": "markdown",
   "metadata": {},
   "source": [
    "***\n",
    "### Movimento Uniformemente Variado (MUV)\n",
    "***"
   ]
  },
  {
   "cell_type": "markdown",
   "metadata": {},
   "source": [
    "![img](https://user-images.githubusercontent.com/14116020/34075169-9a0a1aac-e2a5-11e7-918f-27fecdc92631.jpg)\n",
    "\n",
    "* Se o movimento é **acelerado** (acelerando), $a > 0$ e o gráfico $V \\times T$ é uma reta inclinada para cima.\n",
    "\n",
    "\n",
    "* Se o movimento é **retardado** (freando), $a < 0$ e o gráfico $V \\times T$ é uma reta inclinada para baixo.\n",
    "\n",
    "\n",
    "* Em todo MUV a aceleração é constante e seu gráfico é uma reta paralela ao eixo $T$(I) e entre dois instantes quaisquer $t_1$ e $t_2$, a variação de velocidade $\\Delta V$ é numericamente igual à área (II)\n",
    "\n",
    "![img](https://user-images.githubusercontent.com/14116020/34075186-ef70c5ea-e2a5-11e7-97d4-ab24b2d26e80.jpg)\n",
    "\n",
    "* Em todo gráfico $V \\times T$ a área entre a reta representativa e o eixo dos tempos é numericamente igual à variação de espaço $\\Delta S$, entre dois instantes quaisquer $t_1$ e $t_2$\n",
    "\n",
    "![img](https://user-images.githubusercontent.com/14116020/34075189-1257e4e4-e2a6-11e7-992f-ae2260695869.jpg)\n",
    "\n",
    "* **Análise do gráfico** $V \\times T$:\n",
    "\n",
    "![img](https://user-images.githubusercontent.com/14116020/34075198-2e194d26-e2a6-11e7-8799-928bd92025b4.jpg)\n",
    "\n",
    "O ângulo **a** que a reta representativa da velocidade forma com um eixo horizontal é tal que $tg_a = \\frac{\\Delta V}{\\Delta t}$ corresponde à aceleração do móvel:\n",
    "\n",
    "* $a = \\frac{\\Delta V}{\\Delta t}$ e é denominada coeficiente angular da reta ou declividade da reta. \n",
    "\n",
    "\n",
    "* Se $a$ é agudo, $f(t)$ é crescente e $a > 0$\n",
    "       \n",
    "      \n",
    "* Se $a$ é obtuso , $f(t)$ é decrescente e $a < 0$.\n",
    "\n",
    "![img](https://user-images.githubusercontent.com/14116020/34075207-8d2b3ab8-e2a6-11e7-87d4-5c629d5a9adc.jpg)"
   ]
  },
  {
   "cell_type": "markdown",
   "metadata": {},
   "source": [
    "***\n",
    "#### Função horária do espaço de um MUV e equação de Torricelli\n",
    "***"
   ]
  },
  {
   "cell_type": "markdown",
   "metadata": {},
   "source": [
    "![img](https://user-images.githubusercontent.com/14116020/34075230-5e01e538-e2a7-11e7-853f-c052fa44522c.jpg)\n",
    "\n",
    "![img](https://user-images.githubusercontent.com/14116020/34075235-6ce35dca-e2a7-11e7-8a7e-64e63db51297.jpg)\n",
    "\n",
    "![img](https://user-images.githubusercontent.com/14116020/34075237-7b8b6be2-e2a7-11e7-9aa5-46a87ae5205a.jpg)"
   ]
  },
  {
   "cell_type": "markdown",
   "metadata": {},
   "source": [
    "***\n",
    "#### Gráficos no movimento uniformemente variado (MUV)\n",
    "***\n",
    "\n",
    "Lembre-se que os gráficos não mostram as trajetórias dos móveis. Eles apenas representam as equações (funções) do movimento.\n",
    "\n",
    "![img](https://user-images.githubusercontent.com/14116020/34075241-b917bc5e-e2a7-11e7-87ad-18bc4a99873f.jpg)\n",
    "\n",
    "![img](https://user-images.githubusercontent.com/14116020/34075242-cf511ccc-e2a7-11e7-91c1-1eaaa9bba5b4.jpg)"
   ]
  }
 ],
 "metadata": {
  "kernelspec": {
   "display_name": "Python 3",
   "language": "python",
   "name": "python3"
  },
  "language_info": {
   "codemirror_mode": {
    "name": "ipython",
    "version": 3
   },
   "file_extension": ".py",
   "mimetype": "text/x-python",
   "name": "python",
   "nbconvert_exporter": "python",
   "pygments_lexer": "ipython3",
   "version": "3.5.2"
  }
 },
 "nbformat": 4,
 "nbformat_minor": 2
}
