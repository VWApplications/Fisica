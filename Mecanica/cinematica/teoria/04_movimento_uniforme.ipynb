{
 "cells": [
  {
   "cell_type": "markdown",
   "metadata": {},
   "source": [
    "## Movimento Uniforme (MU)\n",
    "***"
   ]
  },
  {
   "cell_type": "markdown",
   "metadata": {},
   "source": [
    "Denomina-se movimento uniforme (MU) qualquer movimento cuja velocidade escalar seja constante e diferente de zero.\n",
    "\n",
    "\n",
    "Em todo (MU)  a **velocidade instantânea** (indicação do velocímetro em cada instante) coincide com a **velocidade média** em qualquer intervalo de tempo considerado.\n",
    "\n",
    "\n",
    "$S_0$, que é a posição (espaço) quando $t=0$ (quando aciona-se o cronômetro) não é necessariamente a posição de onde o móvel partiu.\n",
    "\n",
    "\n",
    "**Exemplo**: O carro partiu da cidade, mas o cronômetro só foi acionado ($t=0$) quando ele passava pelo $km20$, portanto $S_0 = 20km$\n",
    "\n",
    "![img](https://user-images.githubusercontent.com/14116020/34074880-d40222dc-e29f-11e7-8427-19e01e24e42c.jpg)\n",
    "\n",
    "Na função horária $S = S_0 + V.T$\n",
    "\n",
    "  - Se $V$ é **negativo** o movimento é **retrógrado** (se move em sentido contrário ao dos marcos\n",
    "    crescentes da trajetória)\n",
    "    \n",
    "    \n",
    "  - Se $V$ é **positivo** o movimento é **progressivo** (se move a favor dos marcos crescentes da trajetória)."
   ]
  },
  {
   "cell_type": "markdown",
   "metadata": {},
   "source": [
    "***\n",
    "#### Encontro de móveis em MU\n",
    "***"
   ]
  },
  {
   "cell_type": "markdown",
   "metadata": {},
   "source": [
    "Suponha dois móveis (A e B) em MU se movendo com funções horárias:\n",
    "\n",
    "$$S_A = S_{0A} + V_{A}.T$$\n",
    "\n",
    "$$S_B = S_{0B} + V_{B}.T$$\n",
    "\n",
    "* Se movendo de maneira que eles se encontrem, se você quiser encontrar o **tempo do encontro** basta igualar as duas equações e isolar $T$.\n",
    "\n",
    "\n",
    "* Substituindo esse $T$ numa das equações você determina o **instante do encontro**."
   ]
  },
  {
   "cell_type": "markdown",
   "metadata": {},
   "source": [
    "***\n",
    "#### Gráficos de um MU\n",
    "***\n",
    "\n",
    "Velocidades mais elevadas fornecem nos gráficos $V \\times T$  retas mais inclinadas\n",
    "\n",
    "![img](https://user-images.githubusercontent.com/14116020/34074964-e40c8608-e2a0-11e7-8f23-e32f11e433cb.jpg)\n",
    "\n",
    "Nos gráficos $V \\times T$, se as retas forem paralelas os móveis apresentam a mesma velocidade\n",
    "\n",
    "![img](https://user-images.githubusercontent.com/14116020/34074975-0f6807d2-e2a1-11e7-97c5-aed41759f62f.jpg)\n",
    "\n",
    "Nos gráficos $V \\times T$ onde o deslocamento ($\\Delta S$) é numericamente igual à área, pode-se ter:\n",
    "\n",
    "![img](https://user-images.githubusercontent.com/14116020/34074982-2ff0dd26-e2a1-11e7-84ef-d88db51e45a6.jpg)\n",
    "\n",
    "O deslocamento total $\\Delta S_{total}$ é a soma algébria dos deslocamentos parciais:\n",
    "\n",
    "$$\\Delta S_{total} = \\Delta S_1 + \\Delta S_2 + \\Delta S_3$$\n",
    "\n",
    "***\n",
    "#### Quadro resumo dos movimentos do MU\n",
    "***\n",
    "\n",
    "![img](https://user-images.githubusercontent.com/14116020/34074997-72d18686-e2a1-11e7-8009-046fc4a53e34.jpg)"
   ]
  }
 ],
 "metadata": {
  "kernelspec": {
   "display_name": "Python 3",
   "language": "python",
   "name": "python3"
  },
  "language_info": {
   "codemirror_mode": {
    "name": "ipython",
    "version": 3
   },
   "file_extension": ".py",
   "mimetype": "text/x-python",
   "name": "python",
   "nbconvert_exporter": "python",
   "pygments_lexer": "ipython3",
   "version": "3.5.2"
  }
 },
 "nbformat": 4,
 "nbformat_minor": 2
}
