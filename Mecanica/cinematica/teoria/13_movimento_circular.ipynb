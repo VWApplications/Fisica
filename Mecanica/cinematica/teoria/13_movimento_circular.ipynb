{
 "cells": [
  {
   "cell_type": "markdown",
   "metadata": {},
   "source": [
    "## Movimento Circular\n",
    "***"
   ]
  },
  {
   "cell_type": "markdown",
   "metadata": {},
   "source": [
    "### Velocidade angular (W) de um MCU\n",
    "***"
   ]
  },
  {
   "cell_type": "markdown",
   "metadata": {},
   "source": [
    "Considere um móvel em MCU de modo que no instante $t_0$ sua posição seja determinada pelo ângulo de fase $φ_0$ e num outro instante $t$ em que $(t > t_0)$ pelo ângulo de fase $φ$.\n",
    "\n",
    "Observa-se que, no intervalo de tempo $Δt = t – t_0$, o raio que acompanha o móvel em seu movimento descreveu “varreu” um ângulo $Δφ = φ – φ_0$.\n",
    "\n",
    "![image](https://user-images.githubusercontent.com/14116020/43362258-45c2ed58-92bc-11e8-9eb7-a58bbf298433.png)\n",
    "\n",
    "À razão entre o ângulo descrito pelo móvel em MCU e o tempo gasto para descrevê-lo dá-se o nome de **velocidade angular** (W) do corpo, ou seja:\n",
    "\n",
    "$W = \\frac{Δφ}{Δt}$\n",
    "\n",
    "Se o móvel efetuar uma volta completa, o ângulo descrito será:\n",
    "\n",
    "$Δφ = 2πrad = 360º$\n",
    "\n",
    "E esse ângulo será descrito num tempo que é igual ao seu período $T$. Então:\n",
    "\n",
    "$W = \\frac{2π}{T}$"
   ]
  },
  {
   "cell_type": "markdown",
   "metadata": {},
   "source": [
    "***\n",
    "### Relação entre velocidade escalar (V) e angular (W)\n",
    "***\n",
    "\n",
    "Na figura abaixo, tem-se:\n",
    "\n",
    "![image](https://user-images.githubusercontent.com/14116020/43362273-bdef6914-92bc-11e8-9c96-2673b939063b.png)\n",
    "\n",
    "$Δφ$ - Ângulo descrito entre $Δt = t – t_0$\n",
    "\n",
    "$ΔS$ - Comprimento do arco\n",
    "\n",
    "$Δφ = \\frac{ΔS}{R}$\n",
    "\n",
    "$ΔS = Δφ.R$\n",
    "\n",
    "Esta relação só é válida se o ângulo $Δφ$ estiver medido em radianos (rad)\n",
    "\n",
    "Dividindo ambos os membros de $ΔS = Δφ.R$ por $Δt$\n",
    "\n",
    "$\\frac{ΔS}{Δt} = \\frac{Δφ}{Δt.R}$\n",
    "\n",
    "$V = W.R$\n",
    "\n",
    "$W = \\frac{V}{R}$"
   ]
  },
  {
   "cell_type": "markdown",
   "metadata": {},
   "source": [
    "***\n",
    "### O que você deve saber\n",
    "***\n",
    "\n",
    "Algumas vezes pode surgir também como unidade de freqüência a rpm (rotações por minuto), cuja relação com o Hz é: $1Hz = 60rpm$\n",
    "\n",
    "![image](https://user-images.githubusercontent.com/14116020/43362299-5a5081e4-92bd-11e8-95fa-3001621af757.png)\n",
    "\n",
    "A freqüência ($F$) está relacionada com o período ($T$) por:\n",
    "\n",
    "![image](https://user-images.githubusercontent.com/14116020/43362304-670722c6-92bd-11e8-9574-e1e4241b6294.png)\n",
    "\n",
    "![image](https://user-images.githubusercontent.com/14116020/43362306-6e2f8b2e-92bd-11e8-871b-25cf6e7f4b65.png)\n",
    "\n",
    "Os dois carros $A$ e $B$ da figura mantêm-se lado a lado numa pista circular, no intervalo de tempo $Δt$. Seus raios nesse MCU são, respectivamente, $R_A$ e $R_B$.\n",
    "\n",
    "![image](https://user-images.githubusercontent.com/14116020/43362310-8622caca-92bd-11e8-85bd-93eca5fce106.png)\n",
    "\n",
    "O carro $B$ terá maior velocidade (escalar, linear) $V = ΔS/Δt$, pois deverá percorrer maior distância $ΔS$ para, no mesmo intervalo de tempo, poder acompanhar o carro $A$, ou seja:\n",
    "\n",
    "$V_B > V_A$\n",
    "\n",
    "Mas, como “varrem” o mesmo ângulo ($Δφ$) no mesmo intervalo de tempo, suas velocidades angulares ($W = Δφ/Δt$) serão iguais, ou seja:\n",
    "\n",
    "$W_A = W_B$"
   ]
  },
  {
   "cell_type": "markdown",
   "metadata": {},
   "source": [
    "***\n",
    "\n",
    "O trator da figura abaixo mantém velocidade escalar constante $V$.\n",
    "\n",
    "![image](https://user-images.githubusercontent.com/14116020/43362323-d285daba-92bd-11e8-8407-e579f9b05e96.png)\n",
    "\n",
    "Observe que cada ponto da periferia das rodas da frente e de trás, possuem a mesma velocidade que a do trator, ou seja, $V_f = V_t = V$ mas, possuem velocidades angulares diferentes, pois $W = 2π/R$ e assim, $W$ é inversamente proporcional a $R$, e como o raio da roda da frente é menor, ela gira mais que a maior tendo maior velocidade angular que a mesma, ou seja, $W_f > W_t$ \n",
    "\n",
    "![image](https://user-images.githubusercontent.com/14116020/43362328-f587c992-92bd-11e8-8315-a5469f2557a1.png)"
   ]
  },
  {
   "cell_type": "markdown",
   "metadata": {},
   "source": [
    "***\n",
    "\n",
    "**Bicicletas**: Possuem coroas dentadas dianteiras (onde estão os pedais) unidas por uma corrente às coroas dentadas traseiras (ligadas ao eixo da roda traseira).\n",
    "\n",
    "![image](https://user-images.githubusercontent.com/14116020/43362335-17720e96-92be-11e8-9120-c5e6650b6f37.png)\n",
    "\n",
    "O número de voltas efetuadas pela roda traseira a cada pedalada corresponde a uma volta completa dos pedais da roda dentada dianteira, ela depende do tamanho relativo das coroas que estão ligadas pela corrente e obedecem à relação: $f_d.R_d = f_t.R_t$\n",
    "\n",
    "A freqüência da coroa dentada traseira ($f_t$) é a mesma que a da roda traseira.\n",
    "\n",
    "Se você quiser manter alta velocidade, você deve acionar a coroa dianteira de maior raio com a coroa traseira de menor raio.\n",
    "\n",
    "Se você quiser fazer menos esforço numa subida íngreme, você deve acionar a coroa dianteira de menor raio com a coroa traseira de maior raio (veja que nesse caso a velocidade diminui)"
   ]
  },
  {
   "cell_type": "markdown",
   "metadata": {},
   "source": [
    "***\n",
    "\n",
    "Quando surgirem exercícios sobre encontro dos ponteiros de um relógio você pode resolvê-los da seguinte maneira: Num relógio convencional, às 3h pontualmente vemos que o ângulo formado entre o ponteiro dos minutos e o das horas mede 90°. A partir desse instante, o menor intervalo de tempo, necessário para que esses ponteiros fiquem exatamente um sobre o outro, é?\n",
    "\n",
    "![image](https://user-images.githubusercontent.com/14116020/43362359-8f676978-92be-11e8-823c-433c7195f821.png)\n",
    "\n",
    "Até o ponteiro dos minutos encontrar o ponteiro das horas o ponteiro dos minutos terá varrido um ângulo $θ$ (veja figura) tal que: $θ = π/2 + x$\n",
    "\n",
    "![image](https://user-images.githubusercontent.com/14116020/43362363-994f8722-92be-11e8-920f-c185e9d6fb68.png)\n",
    "\n",
    "x é o ângulo varrido pelo ponteiro das horas e que vale: $x = θ/12$\n",
    "\n",
    "x é obtido através de uma regra de três:\n",
    "\n",
    "Enquanto o ponteiro dos minutos varre $2π$ rad ($360º$). O das horas varrerá $π/6$ ($30º$) e quando o dos minutos varrer $θ$. O das horas varrerá $x$\n",
    "\n",
    "\\begin{align*}\n",
    "2π & \\rightarrow π/6 \\\\\n",
    "θ & \\rightarrow x\n",
    "\\end{align*}\n",
    "\n",
    "Tal que:\n",
    "\n",
    "$$360.x = 30.θ \\text{ --- ou --- } 2π.x = π/6.θ$$\n",
    "\n",
    "$$x= θ/12$$\n",
    "\n",
    "Assim:\n",
    "\n",
    "$$θ = π/2 + θ/12$$\n",
    "\n",
    "$$12θ – θ = 6π$$\n",
    "\n",
    "$$θ = 6π/11 \\text{rad (ângulo varrido pelo ponteiro dos minutos até o encontro)}$$\n",
    "\n",
    "Passando este ângulo para horas por uma regra de três:\n",
    "\n",
    "\\begin{align*}\n",
    "2π & \\rightarrow 1h \\\\\n",
    "6π/11 & \\rightarrow th\n",
    "\\end{align*}\n",
    "\n",
    "$$t = (6π/11)/2π$$\n",
    "\n",
    "$$t = 3/11h x 60$$\n",
    "\n",
    "$$t=180/11 min$$"
   ]
  },
  {
   "cell_type": "code",
   "execution_count": null,
   "metadata": {},
   "outputs": [],
   "source": []
  }
 ],
 "metadata": {
  "kernelspec": {
   "display_name": "Python 3",
   "language": "python",
   "name": "python3"
  },
  "language_info": {
   "codemirror_mode": {
    "name": "ipython",
    "version": 3
   },
   "file_extension": ".py",
   "mimetype": "text/x-python",
   "name": "python",
   "nbconvert_exporter": "python",
   "pygments_lexer": "ipython3",
   "version": "3.5.2"
  }
 },
 "nbformat": 4,
 "nbformat_minor": 2
}
