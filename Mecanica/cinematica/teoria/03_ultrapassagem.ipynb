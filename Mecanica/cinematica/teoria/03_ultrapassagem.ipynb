{
 "cells": [
  {
   "cell_type": "markdown",
   "metadata": {},
   "source": [
    "## Ultrapassagem\n",
    "***"
   ]
  },
  {
   "cell_type": "markdown",
   "metadata": {},
   "source": [
    "Trem de comprimento (x) atravessando um túnel de comprimento (c):\n",
    "\n",
    "* Observe que para atravessar completamente o túnel, um ponto $P$ fixo em qualquer parte do trem deve percorrer uma **distância** $\\Delta S \\rightarrow \\Delta S = x+c$ com **velocidade** $v$ e **intervalo de tempo** $\\Delta t \\rightarrow V = \\frac{x+c}{\\Delta t}$\n",
    "\n",
    "![img](https://user-images.githubusercontent.com/14116020/34074717-a1e8a88c-e29c-11e7-9c6f-6f7bf87fb225.jpg)"
   ]
  },
  {
   "cell_type": "markdown",
   "metadata": {},
   "source": [
    "Se um móvel de tamanho não desprezível com velocidade $V_1$ ultrapassar outro também de dimensão não desprezível com velocidade $V_2$, deve-se proceder da seguinte maneira:\n",
    "\n",
    "***\n",
    "#### Mesmo sentido\n",
    "***\n",
    "\n",
    "![img](https://user-images.githubusercontent.com/14116020/34074743-0fc44118-e29d-11e7-8704-ff83fe973128.jpg)\n",
    "\n",
    "![img](https://user-images.githubusercontent.com/14116020/34074749-250f4644-e29d-11e7-8570-52dd35c5a2e1.jpg)\n",
    "\n",
    "* Parar um deles, como por exemplo, o caminhão (como se fosse uma ponte ou túnel) e fazer o ônibus ultrapassá-lo utilizando velocidade relativa que no caso é $V_r = V_{onibus} - V_{caminhao}$, pois estão no mesmo sentido:\n",
    "\n",
    "![img](https://user-images.githubusercontent.com/14116020/34074769-58709808-e29d-11e7-9dde-aabfd29626f0.jpg)\n",
    "\n",
    "![img](https://user-images.githubusercontent.com/14116020/34074771-69f46a50-e29d-11e7-86f0-1ec8e136bc2b.jpg)\n",
    "\n",
    "$$V_r = \\frac{\\Delta S}{\\Delta t} \\rightarrow (V_{onibus} - V_{caminhao}) = \\frac{(comprimento\\_do\\_onibus + comprimento\\_do\\_caminhao)}{intervalo\\_de\\_tempo\\_de\\_duracao\\_da\\_ultrapassagem}$$\n",
    "\n",
    "***\n",
    "#### Sentidos contrários\n",
    "***\n",
    "\n",
    "* Proceder da mesma maneira parando um deles, como por exemplo, o caminhão e fazer o ônibus ultrapassá-lo utilizando velocidade relativa que no caso é $V_r = V_{onibus} + V_{caminhao}$, pois estão  em sentidos contrários:\n",
    "\n",
    "![img](https://user-images.githubusercontent.com/14116020/34074806-723e5be8-e29e-11e7-92e8-92772ed2221e.jpg)\n",
    "\n",
    "![img](https://user-images.githubusercontent.com/14116020/34074811-83e2faa2-e29e-11e7-8cf5-c08cac2f6c11.jpg)\n",
    "\n",
    "$$V_r = \\frac{\\Delta S}{\\Delta t} \\rightarrow (V_{onibus} + V_{caminhao}) = \\frac{(comprimento\\_do\\_onibus + comprimento\\_do\\_caminhao)}{intervalo\\_de\\_tempo\\_de\\_duracao\\_da\\_ultrapassagem}$$"
   ]
  }
 ],
 "metadata": {
  "kernelspec": {
   "display_name": "Python 3",
   "language": "python",
   "name": "python3"
  },
  "language_info": {
   "codemirror_mode": {
    "name": "ipython",
    "version": 3
   },
   "file_extension": ".py",
   "mimetype": "text/x-python",
   "name": "python",
   "nbconvert_exporter": "python",
   "pygments_lexer": "ipython3",
   "version": "3.5.2"
  }
 },
 "nbformat": 4,
 "nbformat_minor": 2
}
