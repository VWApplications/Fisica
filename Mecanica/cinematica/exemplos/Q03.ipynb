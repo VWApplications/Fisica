{
 "cells": [
  {
   "cell_type": "markdown",
   "metadata": {
    "collapsed": true
   },
   "source": [
    "## Questão 03 (Unisinos-RS)\n",
    "***"
   ]
  },
  {
   "cell_type": "markdown",
   "metadata": {},
   "source": [
    "Numa pista atlética retangular de lados $a = 160m$ e $b = 60 m$, um atleta corre com velocidade de módulo constante $v = 5 m/s$, no sentido horário, conforme mostrado na figura. Em $t= 0s$, o atleta encontra-se no ponto A. O módulo do deslocamento do atleta, após $60 s$ de corrida, em metros, é:\n",
    "\n",
    "![img](https://user-images.githubusercontent.com/14116020/43374103-507b6cf2-9384-11e8-862d-49fb8b5810d8.png)\n",
    "\n",
    "a) 100 \n",
    "\n",
    "b) 220 \n",
    "\n",
    "c) 300 \n",
    "\n",
    "d) 10000 \n",
    "\n",
    "e) 18000"
   ]
  },
  {
   "cell_type": "markdown",
   "metadata": {},
   "source": [
    "***\n",
    "### Solução\n",
    "***"
   ]
  },
  {
   "cell_type": "markdown",
   "metadata": {},
   "source": [
    "Se $v = 5 m/s$, após $60s$ o atleta terá percorrido:\n",
    "\n",
    "$\\Delta S = v.\\Delta t$\n",
    "\n",
    "$\\Delta S = 5.60$\n",
    "\n",
    "$\\Delta S = 300 m$\n",
    "\n",
    "Considerando o formato da pista, ele estará no ponto B indicado na figura:\n",
    "\n",
    "![img](https://user-images.githubusercontent.com/14116020/43374239-0f487832-9385-11e8-8a9a-daab5216a021.png)"
   ]
  },
  {
   "cell_type": "code",
   "execution_count": 1,
   "metadata": {},
   "outputs": [
    {
     "name": "stdout",
     "output_type": "stream",
     "text": [
      "O atleta terá percorrido 300 m\n"
     ]
    }
   ],
   "source": [
    "from cinematica import Basico\n",
    "from math import sqrt, pow\n",
    "\n",
    "deslocamento = Basico.deslocamento_escalar(\n",
    "    Vm=5,\n",
    "    DT=60\n",
    ")\n",
    "\n",
    "print(\"O atleta terá percorrido %d m\" % deslocamento)"
   ]
  },
  {
   "cell_type": "code",
   "execution_count": 2,
   "metadata": {},
   "outputs": [
    {
     "name": "stdout",
     "output_type": "stream",
     "text": [
      "O deslocamento de A até B é de 100 m\n"
     ]
    }
   ],
   "source": [
    "# Pitagoras\n",
    "d = sqrt(pow(60, 2) + pow(80, 2))\n",
    "\n",
    "print(\"O deslocamento de A até B é de %d m\" % d)"
   ]
  }
 ],
 "metadata": {
  "kernelspec": {
   "display_name": "Python 3",
   "language": "python",
   "name": "python3"
  },
  "language_info": {
   "codemirror_mode": {
    "name": "ipython",
    "version": 3
   },
   "file_extension": ".py",
   "mimetype": "text/x-python",
   "name": "python",
   "nbconvert_exporter": "python",
   "pygments_lexer": "ipython3",
   "version": "3.5.2"
  }
 },
 "nbformat": 4,
 "nbformat_minor": 1
}
