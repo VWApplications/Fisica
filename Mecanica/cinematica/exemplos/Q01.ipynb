{
 "cells": [
  {
   "cell_type": "markdown",
   "metadata": {
    "collapsed": true
   },
   "source": [
    "## Questão 01 (EFOA-MG)\n",
    "***"
   ]
  },
  {
   "cell_type": "markdown",
   "metadata": {},
   "source": [
    "Um aluno, sentado na carteira da sala, observa os colegas, também sentados nas respectivas carteiras, bem como um mosquito que voa perseguindo o professor que fiscaliza a prova da\n",
    "turma.\n",
    "Das alternativas abaixo, a única que retrata uma análise correta do aluno é:\n",
    "\n",
    "a) A velocidade de todos os meus colegas é nula para todo observador na superfície da Terra.\n",
    "\n",
    "b) Eu estou em repouso em relação aos meus colegas, mas nós estamos em movimento em relação a todo observador na superfície da Terra.\n",
    "\n",
    "c) Como não há repouso absoluto, não há nenhum referencial em relação ao qual nós, estudantes, estejamos em repouso.\n",
    "\n",
    "d) A velocidade do mosquito é a mesma, tanto em relação ao meus colegas, quanto em relação ao professor.\n",
    "\n",
    "e) Mesmo para o professor, que não pára de andar pela sala, seria possível achar um referencial em relação ao qual ele estivesse em repouso."
   ]
  },
  {
   "cell_type": "markdown",
   "metadata": {},
   "source": [
    "***\n",
    "### Resposta\n",
    "***"
   ]
  },
  {
   "cell_type": "markdown",
   "metadata": {},
   "source": [
    "e) Mesmo para o professor, que não pára de andar pela sala, seria possível achar um referencial em relação ao qual ele estivesse em repouso."
   ]
  }
 ],
 "metadata": {
  "kernelspec": {
   "display_name": "Python 3",
   "language": "python",
   "name": "python3"
  },
  "language_info": {
   "codemirror_mode": {
    "name": "ipython",
    "version": 3
   },
   "file_extension": ".py",
   "mimetype": "text/x-python",
   "name": "python",
   "nbconvert_exporter": "python",
   "pygments_lexer": "ipython3",
   "version": "3.5.2"
  }
 },
 "nbformat": 4,
 "nbformat_minor": 1
}
