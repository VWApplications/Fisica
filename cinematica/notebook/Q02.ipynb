{
 "cells": [
  {
   "cell_type": "markdown",
   "metadata": {},
   "source": [
    "## Questão 02 (Unitau-SP)\n",
    "***"
   ]
  },
  {
   "cell_type": "markdown",
   "metadata": {},
   "source": [
    "Um móvel parte do km 50, indo até o km 60, onde, mudando o sentido do movimento, vai até o km 32. O deslocamento escalar e a distância efetivamente percorrida são, respectivamente:\n",
    "\n",
    "a) 28 km e 28 km\n",
    "\n",
    "b) 18 km e 38 km\n",
    "\n",
    "c) 18 km e 38 km\n",
    "\n",
    "d) 18 km e 18 km\n",
    "\n",
    "e) 38 km e 18 km"
   ]
  },
  {
   "cell_type": "markdown",
   "metadata": {},
   "source": [
    "***\n",
    "### Resposta\n",
    "***"
   ]
  },
  {
   "cell_type": "markdown",
   "metadata": {},
   "source": [
    "O deslocamento escalar corresponde ao espaço percorrido $\\Delta S$, dado por:\n",
    "\n",
    "$\\Delta S = S - S_0$\n",
    "\n",
    "$\\Delta S = 32 - 50$\n",
    "\n",
    "$\\Delta S = -18 km$"
   ]
  },
  {
   "cell_type": "code",
   "execution_count": 1,
   "metadata": {},
   "outputs": [
    {
     "name": "stdout",
     "output_type": "stream",
     "text": [
      "O deslocamento escalar é de -18 km\n"
     ]
    }
   ],
   "source": [
    "from cinematica import Basico\n",
    "\n",
    "deslocamento = Basico.deslocamento_escalar(\n",
    "    S=32,\n",
    "    So=50\n",
    ")\n",
    "\n",
    "print(\"O deslocamento escalar é de %d km\" % deslocamento)"
   ]
  }
 ],
 "metadata": {
  "kernelspec": {
   "display_name": "Python 3",
   "language": "python",
   "name": "python3"
  },
  "language_info": {
   "codemirror_mode": {
    "name": "ipython",
    "version": 3
   },
   "file_extension": ".py",
   "mimetype": "text/x-python",
   "name": "python",
   "nbconvert_exporter": "python",
   "pygments_lexer": "ipython3",
   "version": "3.5.2"
  }
 },
 "nbformat": 4,
 "nbformat_minor": 2
}
